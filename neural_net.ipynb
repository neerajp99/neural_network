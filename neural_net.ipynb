{
 "cells": [
  {
   "cell_type": "markdown",
   "metadata": {},
   "source": [
    "## Neural Network with decision boundary\n"
   ]
  },
  {
   "cell_type": "code",
   "execution_count": 42,
   "metadata": {},
   "outputs": [],
   "source": [
    "import numpy as np\n",
    "import pandas as pd\n",
    "import math\n",
    "import matplotlib\n",
    "import matplotlib.pyplot as plt"
   ]
  },
  {
   "cell_type": "code",
   "execution_count": 43,
   "metadata": {},
   "outputs": [],
   "source": [
    "# Method to split data into 70% Train and 30% Test data\n",
    "def split_data(df, X, Y):\n",
    "    arr_rand = np.random.rand(df.shape[0])\n",
    "    split = arr_rand < np.percentile(arr_rand, 70)\n",
    "    \n",
    "    X_train = X[split]\n",
    "    Y_train = Y[split]\n",
    "    X_test =  X[~split]\n",
    "    Y_test = Y[~split]\n",
    "\n",
    "    return X_train, Y_train, X_test, Y_test"
   ]
  },
  {
   "cell_type": "code",
   "execution_count": 44,
   "metadata": {
    "scrolled": true
   },
   "outputs": [
    {
     "name": "stderr",
     "output_type": "stream",
     "text": [
      "/Users/neeraj/.local/lib/python3.7/site-packages/ipykernel_launcher.py:9: SettingWithCopyWarning: \n",
      "A value is trying to be set on a copy of a slice from a DataFrame\n",
      "\n",
      "See the caveats in the documentation: https://pandas.pydata.org/pandas-docs/stable/user_guide/indexing.html#returning-a-view-versus-a-copy\n",
      "  if __name__ == '__main__':\n",
      "/Users/neeraj/.local/lib/python3.7/site-packages/ipykernel_launcher.py:11: SettingWithCopyWarning: \n",
      "A value is trying to be set on a copy of a slice from a DataFrame\n",
      "\n",
      "See the caveats in the documentation: https://pandas.pydata.org/pandas-docs/stable/user_guide/indexing.html#returning-a-view-versus-a-copy\n",
      "  # This is added back by InteractiveShellApp.init_path()\n"
     ]
    }
   ],
   "source": [
    "# Read data from the binary data file\n",
    "data = pd.read_csv('hw3data', sep=\"\\t\", header=None)\n",
    "# Creating a column for initial bias values\n",
    "x = np.hstack((np.ones((data.shape[0], 1)), data.drop(data.columns[2], axis=1)))\n",
    "y = data[2]\n",
    "# Convert Class-1 and Class-2 into 0's and 1's\n",
    "for i, val in enumerate(y):\n",
    "    if val == \"Class-1\":\n",
    "        y[i] = 0\n",
    "    else:\n",
    "        y[i] = 1\n",
    "# Splitting the data\n",
    "X_train, Y_train, X_test, Y_test = split_data(data, x, y)      "
   ]
  },
  {
   "cell_type": "code",
   "execution_count": 45,
   "metadata": {},
   "outputs": [],
   "source": [
    "# Sigmoid activation function\n",
    "def activation_func(value):\n",
    "    return (1 / (1 + np.exp(-value)))"
   ]
  },
  {
   "cell_type": "code",
   "execution_count": 46,
   "metadata": {},
   "outputs": [],
   "source": [
    "# Function to return mean squared error\n",
    "def mse(y_predicted, Y_test):\n",
    "    return np.sum((y_predicted - Y_test) ** 2) / len(y_predicted)"
   ]
  },
  {
   "cell_type": "code",
   "execution_count": 47,
   "metadata": {},
   "outputs": [],
   "source": [
    "# Derivative of sigmoid function\n",
    "def sigmoid_derivative(val):\n",
    "    return activation_func(val) * (1 - activation_func(val))"
   ]
  },
  {
   "cell_type": "code",
   "execution_count": 48,
   "metadata": {},
   "outputs": [],
   "source": [
    "# Method to predict y-values, test error, and accuracy\n",
    "def predict_values(X_test, Y_test, weights):\n",
    "    weights_1 = weights[0]\n",
    "    weights_2 = weights[1]\n",
    "    n = Y_test.shape[0]\n",
    "    Y_test = np.array(Y_test).reshape(n, 1)\n",
    "    \n",
    "    # Forward pass\n",
    "    z_1 = np.dot(X_test, weights_1)\n",
    "    act_1 = activation_func(z_1)\n",
    "    z_2 = np.dot(act_1, weights_2)\n",
    "    y_predicted = activation_func(z_2)\n",
    "    \n",
    "    # Calculating the test error\n",
    "    test_error = mse(y_predicted, Y_test)\n",
    "    \n",
    "    ctr = 0\n",
    "    # Returning values in 0's and 1's\n",
    "    for i, val in enumerate(y_predicted):\n",
    "        if val >= 0.5:\n",
    "            y_predicted[i] = 1\n",
    "        else:\n",
    "            y_predicted[i] = 0\n",
    "    for i, val in enumerate(y_predicted):\n",
    "        if y_predicted[i] == Y_test[i]:\n",
    "            ctr += 1\n",
    "    \n",
    "    # Number of values matched\n",
    "    print('CORRECT', ctr)\n",
    "    accuracy = (ctr / len(Y_test)) * 100\n",
    "    # print('ACCURACY', accuracy)\n",
    "    \n",
    "    return y_predicted, accuracy, test_error"
   ]
  },
  {
   "cell_type": "code",
   "execution_count": 56,
   "metadata": {
    "scrolled": true
   },
   "outputs": [],
   "source": [
    "# Model to train the neural network\n",
    "def neural_network_train(x, y, alpha, iterations):\n",
    "    # converting into numpy array\n",
    "    # dtype is a numpy.object, converting the array into astype(float)\n",
    "    # otherwise it will show a message saying numpy.float64 has no attribute log10\n",
    "    X = np.array(x)\n",
    "    X = X.astype(float) \n",
    "    n = X.shape[0]\n",
    "    Y = np.array(y).reshape(n, 1)\n",
    "    Y = Y.astype(float) \n",
    "    \n",
    "    # Randomly initialising random weights \n",
    "    # weights = [L-1, L] where L-1 => no of neurons in prev layer, L => neurons in current neurons\n",
    "    weights_1 = np.random.random((3, 6))\n",
    "    weights_2 = np.random.random((6, 1))\n",
    "    \n",
    "    # Final array to include all errors\n",
    "    loss_arr = []\n",
    "    \n",
    "    # Looping over through N iterations\n",
    "    for i in range(iterations):\n",
    "        # Calcuating the predicted values of Y\n",
    "        z_1 = np.dot(X, weights_1)\n",
    "        # Declare the activation computations\n",
    "        act_1 = activation_func(z_1)\n",
    "        z_2 = np.dot(act_1, weights_2)\n",
    "        # Calculating the y-predicted value\n",
    "        y_predicted = activation_func(z_2)\n",
    "    \n",
    "        #Calucating mean squared loss\n",
    "        loss_j = mse(y_predicted, Y)\n",
    "        # print('Iteration' + str(i), loss_j)\n",
    "        \n",
    "        # Update the initial weights with gradients\n",
    "        weights_1 = weights_1 - ((1/len(y_predicted)) * ( alpha * np.dot(np.transpose(X), ((y_predicted - Y) * sigmoid_derivative(z_2) * sigmoid_derivative(z_1)))))\n",
    "\n",
    "        # Update the hidden layer weights with gradients\n",
    "        weights_2 = weights_2 - ((1/len(y_predicted)) * ( alpha * np.dot(np.transpose(act_1), ((y_predicted - Y) * sigmoid_derivative(z_2)))))\n",
    "        \n",
    "        # Add the loss on each iteration\n",
    "        loss_arr.append(loss_j)\n",
    "    return loss_arr, (weights_1, weights_2)\n",
    "\n",
    "learning_rate = 0.004\n",
    "loss_arr, weights = neural_network_train(X_train, Y_train, learning_rate, 200000)\n",
    "        "
   ]
  },
  {
   "cell_type": "code",
   "execution_count": 57,
   "metadata": {},
   "outputs": [
    {
     "data": {
      "text/plain": [
       "[<matplotlib.lines.Line2D at 0x7ff6364d7990>]"
      ]
     },
     "execution_count": 57,
     "metadata": {},
     "output_type": "execute_result"
    },
    {
     "data": {
      "image/png": "[encoded data removed]",
      "text/plain": [
       "<Figure size 432x288 with 1 Axes>"
      ]
     },
     "metadata": {
      "needs_background": "light"
     },
     "output_type": "display_data"
    }
   ],
   "source": [
    "# Plotting the graph for the loss J decreases over time for 150000 iterations\n",
    "x_arr = np.arange(0,200000,1)\n",
    "loss_arr = np.array(loss_arr)\n",
    "plt.plot(x_arr, loss_arr)"
   ]
  },
  {
   "cell_type": "code",
   "execution_count": 58,
   "metadata": {},
   "outputs": [
    {
     "name": "stdout",
     "output_type": "stream",
     "text": [
      "CORRECT 43\n",
      "Accuracy:  95.55555555555556\n",
      "Test Error:  6.981711963701047 %\n"
     ]
    }
   ],
   "source": [
    "# Calculating the accuracy, test error\n",
    "y_predicted, accuracy, test_error = predict_values(X_test, Y_test, weights)\n",
    "print('Accuracy: ', accuracy)\n",
    "print('Test Error: ', test_error * 100, \"%\" )"
   ]
  },
  {
   "cell_type": "code",
   "execution_count": 59,
   "metadata": {},
   "outputs": [],
   "source": [
    "# Method to plot the decision boundary \n",
    "# Uses the first two columns of the data for fitting the model as \n",
    "# we need to find the predicted value for every point in the scatter plot.\n",
    "\n",
    "# Get the updated final features weights\n",
    "weight_final = weights[0]\n",
    "\n",
    "# Cleaning the values of X, Y from the data\n",
    "X = np.array(x)\n",
    "# dtype is a numpy.object, converting the array into astype(float)\n",
    "# otherwise it will show a message saying numpy.float64 has no attribute log10\n",
    "X = X.astype(float) \n",
    "n = X.shape[0]\n",
    "Y = np.array(y).reshape(n, 1)\n",
    "Y = Y.astype(float) \n",
    "\n",
    "# Implementing a mesh grid-style scatter plot\n",
    "\n",
    "# Step size in the mesh\n",
    "h = 0.02 \n",
    "# Create sample points in a uniform grid to feed them to the classifier.\n",
    "x_min, x_max = X[:, 1].min() - 1, X[:, 1].max() + 1\n",
    "y_min, y_max = X[:, 2].min() - 1, X[:, 2].max() + 1\n",
    "xx, yy = np.meshgrid(np.arange(x_min, x_max, h), np.arange(y_min, y_max, h))\n",
    "\n",
    "# Flatten the 2D array into 1D and getting the transpose of it\n",
    "new_ravel_array = np.array([xx.ravel(), yy.ravel()]).T"
   ]
  },
  {
   "cell_type": "code",
   "execution_count": 60,
   "metadata": {},
   "outputs": [],
   "source": [
    "# Method to predict to capture their prediction of y values \n",
    "def predict_values_mesh(X_test, weights):\n",
    "    weights_1 = weights[0]\n",
    "    weights_2 = weights[1]\n",
    "    \n",
    "    # Forward pass\n",
    "    z_1 = np.dot(X_test, weights_1)\n",
    "    act_1 = activation_func(z_1)\n",
    "    z_2 = np.dot(act_1, weights_2)\n",
    "    y_predicted = activation_func(z_2)\n",
    "    print(y_predicted)\n",
    "\n",
    "    for i, val in enumerate(y_predicted):\n",
    "        if val >= 0.5:\n",
    "            y_predicted[i] = 1\n",
    "        else:\n",
    "            y_predicted[i] = 0\n",
    "    \n",
    "    return y_predicted"
   ]
  },
  {
   "cell_type": "code",
   "execution_count": 61,
   "metadata": {},
   "outputs": [
    {
     "name": "stdout",
     "output_type": "stream",
     "text": [
      "[[0.82166025]\n",
      " [0.82330494]\n",
      " [0.82489828]\n",
      " ...\n",
      " [0.37781666]\n",
      " [0.38696305]\n",
      " [0.39615449]]\n"
     ]
    },
    {
     "data": {
      "text/plain": [
       "(220, 280)"
      ]
     },
     "execution_count": 61,
     "metadata": {},
     "output_type": "execute_result"
    }
   ],
   "source": [
    "# Updating the flattened array with a column for bias as weights is of shape (3, 6)\n",
    "final_bias_array = np.hstack((np.ones((new_ravel_array.shape[0], 1)), new_ravel_array))\n",
    "\n",
    "# Return the y-predited values \n",
    "y_predicted_new = predict_values_mesh(final_bias_array, weights)\n",
    "\n",
    "# Reshaping the size with respect to 'xx' shape to plot\n",
    "y_predicted_new = y_predicted_new.reshape(xx.shape)\n",
    "y_predicted_new.shape"
   ]
  },
  {
   "cell_type": "code",
   "execution_count": 62,
   "metadata": {},
   "outputs": [
    {
     "data": {
      "image/png": "[encoded data removed]",
      "text/plain": [
       "<Figure size 432x288 with 2 Axes>"
      ]
     },
     "metadata": {
      "needs_background": "light"
     },
     "output_type": "display_data"
    }
   ],
   "source": [
    "# Plot the decision boundary\n",
    "colors=['#ff4466', '#2d7dd2']\n",
    "plt.contourf(xx, yy, y_predicted_new, cmap='binary_r', alpha=0.8)\n",
    "plt.scatter(X[:, 1], X[:, 2], c=Y[:,0], cmap=matplotlib.colors.ListedColormap(colors))\n",
    "plt.colorbar()\n",
    "plt.show()"
   ]
  },
  {
   "cell_type": "code",
   "execution_count": null,
   "metadata": {},
   "outputs": [],
   "source": []
  }
 ],
 "metadata": {
  "kernelspec": {
   "display_name": "Python 3",
   "language": "python",
   "name": "python3"
  },
  "language_info": {
   "codemirror_mode": {
    "name": "ipython",
    "version": 3
   },
   "file_extension": ".py",
   "mimetype": "text/x-python",
   "name": "python",
   "nbconvert_exporter": "python",
   "pygments_lexer": "ipython3",
   "version": "3.7.6"
  }
 },
 "nbformat": 4,
 "nbformat_minor": 2
}
