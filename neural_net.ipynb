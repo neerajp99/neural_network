{
 "cells": [
  {
   "cell_type": "markdown",
   "metadata": {},
   "source": [
    "## Neural Network\n"
   ]
  },
  {
   "cell_type": "code",
   "execution_count": 7,
   "metadata": {},
   "outputs": [],
   "source": [
    "import numpy as np\n",
    "import pandas as pd\n",
    "import math\n",
    "import matplotlib.pyplot as plt"
   ]
  },
  {
   "cell_type": "code",
   "execution_count": 116,
   "metadata": {},
   "outputs": [],
   "source": [
    "def split_data(df, X, Y):\n",
    "    arr_rand = np.random.rand(df.shape[0])\n",
    "    split = arr_rand < np.percentile(arr_rand, 70)\n",
    "    \n",
    "    X_train = X[split]\n",
    "    Y_train = Y[split]\n",
    "    X_test =  X[~split]\n",
    "    Y_test = Y[~split]\n",
    "\n",
    "#     print(len(X_train), len(Y_train), len(X_test), len(Y_test))\n",
    "    return X_train, Y_train, X_test, Y_test"
   ]
  },
  {
   "cell_type": "code",
   "execution_count": 117,
   "metadata": {
    "scrolled": true
   },
   "outputs": [
    {
     "name": "stderr",
     "output_type": "stream",
     "text": [
      "/Users/neeraj/.local/lib/python3.7/site-packages/ipykernel_launcher.py:7: SettingWithCopyWarning: \n",
      "A value is trying to be set on a copy of a slice from a DataFrame\n",
      "\n",
      "See the caveats in the documentation: https://pandas.pydata.org/pandas-docs/stable/user_guide/indexing.html#returning-a-view-versus-a-copy\n",
      "  import sys\n",
      "/Users/neeraj/.local/lib/python3.7/site-packages/ipykernel_launcher.py:9: SettingWithCopyWarning: \n",
      "A value is trying to be set on a copy of a slice from a DataFrame\n",
      "\n",
      "See the caveats in the documentation: https://pandas.pydata.org/pandas-docs/stable/user_guide/indexing.html#returning-a-view-versus-a-copy\n",
      "  if __name__ == '__main__':\n"
     ]
    }
   ],
   "source": [
    "data = pd.read_csv('hw3data', sep=\"\\t\", header=None)\n",
    "x = np.hstack((np.ones((data.shape[0], 1)), data.drop(data.columns[2], axis=1)))\n",
    "y = data[2]\n",
    "# Convert Class-1 and Class-2 into 0's and 1's\n",
    "for i, val in enumerate(y):\n",
    "    if val == \"Class-1\":\n",
    "        y[i] = 0\n",
    "    else:\n",
    "        y[i] = 1\n",
    "\n",
    "X_train, Y_train, X_test, Y_test = split_data(data, x, y)      "
   ]
  },
  {
   "cell_type": "code",
   "execution_count": 118,
   "metadata": {},
   "outputs": [],
   "source": [
    "# Sigmoid activation function\n",
    "def activation_func(value):\n",
    "    return (1 / (1 + np.exp(-value)))"
   ]
  },
  {
   "cell_type": "code",
   "execution_count": 119,
   "metadata": {},
   "outputs": [],
   "source": [
    "# Function to return mea squared error\n",
    "def mse(y_predicted, Y_test):\n",
    "    return np.sum((y_predicted - Y_test) ** 2) / len(y_predicted)"
   ]
  },
  {
   "cell_type": "code",
   "execution_count": 120,
   "metadata": {},
   "outputs": [],
   "source": [
    "# Derivative of sigmoid function\n",
    "def sigmoid_derivative(val):\n",
    "    return activation_func(val) * (1 - activation_func(val))"
   ]
  },
  {
   "cell_type": "code",
   "execution_count": 142,
   "metadata": {},
   "outputs": [],
   "source": [
    "def predict_values(X_test, Y_test, weights):\n",
    "    weights_1 = weights[0]\n",
    "    weights_2 = weights[1]\n",
    "    n = Y_test.shape[0]\n",
    "    Y_test = np.array(Y_test).reshape(n, 1)\n",
    "    # Forward pass\n",
    "    z_1 = np.dot(X_test, weights_1)\n",
    "    act_1 = activation_func(z_1)\n",
    "    z_2 = np.dot(act_1, weights_2)\n",
    "    y_predicted = activation_func(z_2)\n",
    "    ctr = 0\n",
    "    for i, val in enumerate(y_predicted):\n",
    "        if val >= 0.5:\n",
    "            y_predicted[i] = 1\n",
    "        else:\n",
    "            y_predicted[i] = 0\n",
    "    for i, val in enumerate(y_predicted):\n",
    "        if y_predicted[i] == Y_test[i]:\n",
    "            ctr += 1\n",
    "    \n",
    "    print('CORRECT', ctr)\n",
    "    accuracy = (ctr / len(Y_test)) * 100\n",
    "    print('ACCURACY', accuracy)\n",
    "\n",
    "    return y_predicted, accuracy"
   ]
  },
  {
   "cell_type": "code",
   "execution_count": 162,
   "metadata": {
    "scrolled": true
   },
   "outputs": [],
   "source": [
    "# Model to train the perceptron using delta rule\n",
    "def perceptron_train(x, y, alpha, iterations):\n",
    "    # converting into numpy\n",
    "    X = np.array(x)\n",
    "    # dtype is a numpy.object, converting the array into astype(float)\n",
    "    # otherwise it will show a message saying numpy.float64 has no attribute log10\n",
    "    X = X.astype(float) \n",
    "    n = X.shape[0]\n",
    "    Y = np.array(y).reshape(n, 1)\n",
    "    Y = Y.astype(float) \n",
    "    \n",
    "    # Eandomly initialising random weights \n",
    "    # weights = [L-1, L] where L-1 => no of neurons in prev layer, L => neurons in current neurons\n",
    "    weights_1 = np.random.random((3, 6))\n",
    "    weights_2 = np.random.random((6, 1))\n",
    "    \n",
    "    # Final arr to include all errors\n",
    "    loss_arr = []\n",
    "    \n",
    "    # Looping over through for N iterations\n",
    "    for i in range(iterations):\n",
    "        # Calcuating the predicted values of Y\n",
    "        z_1 = np.dot(X, weights_1)\n",
    "        act_1 = activation_func(z_1)\n",
    "        z_2 = np.dot(act_1, weights_2)\n",
    "        y_predicted = activation_func(z_2)\n",
    "#         print('w_2', weights_2.shape)\n",
    "#         print('w_1', weights_1.shape)\n",
    "#         print('z_1', z_1.shape)\n",
    "#         print('act_1', act_1.shape)\n",
    "#         print('z_2', z_2.shape)\n",
    "#         print('y_predicted', y_predicted.shape)\n",
    "#         print('sigmoid_derivative(z_2)', sigmoid_derivative(z_2).shape)\n",
    "#         print('sigmoid_derivative(z_1)', sigmoid_derivative(z_1).shape)\n",
    "        \n",
    "#         print('y_predicted - Y', (y_predicted - Y).shape)\n",
    "#         print('X', X.shape)\n",
    "#         test = ((y_predicted - Y) * sigmoid_derivative(z_2))\n",
    "#         print('test', test.shape)\n",
    "        \n",
    "        #Calucating mean squared loss\n",
    "        loss_j = mse(y_predicted, Y)\n",
    "#         print('Iteration' + str(i), loss_j)\n",
    "        \n",
    "        weights_1 = weights_1 - ((1/len(y_predicted)) * ( alpha * np.dot(np.transpose(X), ((y_predicted - Y) * sigmoid_derivative(z_2) * sigmoid_derivative(z_1)))))\n",
    "#         print('weights_1', weights_1.shape)\n",
    "\n",
    "        weights_2 = weights_2 - ((1/len(y_predicted)) * ( alpha * np.dot(np.transpose(act_1), ((y_predicted - Y) * sigmoid_derivative(z_2)))))\n",
    "#         print('weight_2', weights_2.shape)\n",
    "        \n",
    "        loss_arr.append(loss_j)\n",
    "    return loss_arr, (weights_1, weights_2)\n",
    "\n",
    "loss_arr, weights = perceptron_train(X_train, Y_train, 0.001, 200000)\n",
    "        "
   ]
  },
  {
   "cell_type": "code",
   "execution_count": 163,
   "metadata": {},
   "outputs": [
    {
     "data": {
      "text/plain": [
       "[<matplotlib.lines.Line2D at 0x7fd1afe00690>]"
      ]
     },
     "execution_count": 163,
     "metadata": {},
     "output_type": "execute_result"
    },
    {
     "data": {
      "image/png": "[encoded data removed]",
      "text/plain": [
       "<Figure size 432x288 with 1 Axes>"
      ]
     },
     "metadata": {
      "needs_background": "light"
     },
     "output_type": "display_data"
    }
   ],
   "source": [
    "# Plotting the graph for the loss J decreases over time\n",
    "x_arr = np.arange(0,200000,1)\n",
    "loss_arr = np.array(loss_arr)\n",
    "plt.plot(x_arr, loss_arr)"
   ]
  },
  {
   "cell_type": "code",
   "execution_count": 164,
   "metadata": {},
   "outputs": [
    {
     "name": "stdout",
     "output_type": "stream",
     "text": [
      "CORRECT 39\n",
      "ACCURACY 86.66666666666667\n"
     ]
    }
   ],
   "source": [
    "y_predicted, accuracy = predict_values(X_test, Y_test, weights)"
   ]
  }
 ],
 "metadata": {
  "kernelspec": {
   "display_name": "Python 3",
   "language": "python",
   "name": "python3"
  },
  "language_info": {
   "codemirror_mode": {
    "name": "ipython",
    "version": 3
   },
   "file_extension": ".py",
   "mimetype": "text/x-python",
   "name": "python",
   "nbconvert_exporter": "python",
   "pygments_lexer": "ipython3",
   "version": "3.7.6"
  }
 },
 "nbformat": 4,
 "nbformat_minor": 2
}
