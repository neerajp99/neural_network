{
 "cells": [
  {
   "cell_type": "markdown",
   "metadata": {},
   "source": [
    "## Perceptron with decision boundary"
   ]
  },
  {
   "cell_type": "code",
   "execution_count": 33,
   "metadata": {},
   "outputs": [],
   "source": [
    "import numpy as np\n",
    "import pandas as pd\n",
    "import math\n",
    "import matplotlib\n",
    "import matplotlib.pyplot as plt"
   ]
  },
  {
   "cell_type": "code",
   "execution_count": 34,
   "metadata": {},
   "outputs": [
    {
     "name": "stderr",
     "output_type": "stream",
     "text": [
      "/Users/neeraj/.local/lib/python3.7/site-packages/ipykernel_launcher.py:8: SettingWithCopyWarning: \n",
      "A value is trying to be set on a copy of a slice from a DataFrame\n",
      "\n",
      "See the caveats in the documentation: https://pandas.pydata.org/pandas-docs/stable/user_guide/indexing.html#returning-a-view-versus-a-copy\n",
      "  \n",
      "/Users/neeraj/.local/lib/python3.7/site-packages/ipykernel_launcher.py:10: SettingWithCopyWarning: \n",
      "A value is trying to be set on a copy of a slice from a DataFrame\n",
      "\n",
      "See the caveats in the documentation: https://pandas.pydata.org/pandas-docs/stable/user_guide/indexing.html#returning-a-view-versus-a-copy\n",
      "  # Remove the CWD from sys.path while we load stuff.\n"
     ]
    }
   ],
   "source": [
    "data = pd.read_csv('hw3data', sep=\"\\t\", header=None)\n",
    "x = np.hstack((np.ones((data.shape[0], 1)), data.drop(data.columns[2], axis=1)))\n",
    "y = data[2]\n",
    "y.head()\n",
    "# Convert Class-1 and Class-2 into 0's and 1's\n",
    "for i, val in enumerate(y):\n",
    "    if val == \"Class-1\":\n",
    "        y[i] = 0\n",
    "    else:\n",
    "        y[i] = 1"
   ]
  },
  {
   "cell_type": "code",
   "execution_count": 35,
   "metadata": {},
   "outputs": [],
   "source": [
    "# Method to split data into 70% Train and 30% Test data\n",
    "def split_data(df, X, Y):\n",
    "    arr_rand = np.random.rand(df.shape[0])\n",
    "    split = arr_rand < np.percentile(arr_rand, 70)\n",
    "    \n",
    "    X_train = X[split]\n",
    "    Y_train = Y[split]\n",
    "    X_test =  X[~split]\n",
    "    Y_test = Y[~split]\n",
    "\n",
    "    return X_train, Y_train, X_test, Y_test"
   ]
  },
  {
   "cell_type": "code",
   "execution_count": 36,
   "metadata": {},
   "outputs": [],
   "source": [
    "# Splitting the data\n",
    "X_train, Y_train, X_test, Y_test = split_data(data, x, y)   "
   ]
  },
  {
   "cell_type": "code",
   "execution_count": 37,
   "metadata": {},
   "outputs": [],
   "source": [
    "# Sigmoid activation function\n",
    "def activation_func(value):\n",
    "    return (1 / (1 + np.exp(-value)))"
   ]
  },
  {
   "cell_type": "code",
   "execution_count": 38,
   "metadata": {},
   "outputs": [],
   "source": [
    "# Function to return mea squared error\n",
    "def mse(y_predicted, Y_test):\n",
    "    return np.sum((y_predicted - Y_test) ** 2) / len(y_predicted)"
   ]
  },
  {
   "cell_type": "code",
   "execution_count": 39,
   "metadata": {},
   "outputs": [],
   "source": [
    "# Derivative of sigmoid function\n",
    "def sigmoid_derivative(val):\n",
    "    return activation_func(val) * (1 - activation_func(val))"
   ]
  },
  {
   "cell_type": "code",
   "execution_count": 40,
   "metadata": {},
   "outputs": [],
   "source": [
    "# Custom evaluate function to get the predicted value of Y using the sigmoid activation\n",
    "def evaluate(theta, X_test, Y_test):\n",
    "    y_predicted = activation_func(np.dot(X_test, theta))\n",
    "    y_predicted = y_predicted.reshape(y_predicted.shape[0])\n",
    "    \n",
    "    # Calculating the test error\n",
    "    test_error = mse(y_predicted, Y_test)\n",
    "    \n",
    "    # Updating y values with 0's and 1's\n",
    "    for i, val in enumerate(y_predicted):\n",
    "        if val >= 0.5:\n",
    "            y_predicted[i] = 1\n",
    "        else:\n",
    "            y_predicted[i] = 0\n",
    "            \n",
    "    ctr = 0   \n",
    "    Y_test = np.array(Y_test)\n",
    "    # Counting the matched value count\n",
    "    for i, val in enumerate(y_predicted):\n",
    "        if y_predicted[i] == Y_test[i]:\n",
    "            ctr += 1\n",
    "    # Number of values matched\n",
    "    print('CORRECT', ctr)\n",
    "    accuracy = (ctr / len(Y_test)) * 100\n",
    "    \n",
    "    return y_predicted, accuracy, test_error"
   ]
  },
  {
   "cell_type": "code",
   "execution_count": 41,
   "metadata": {},
   "outputs": [],
   "source": [
    "# Model to train the perceptron using delta rule\n",
    "def perceptron_train(x, y, alpha, iterations):\n",
    "    # converting into numpy\n",
    "    X = np.array(x)\n",
    "    # dtype is a numpy.object, converting the array into astype(float)\n",
    "    # otherwise it will show a message saying numpy.float64 has no attribute log10\n",
    "    X = X.astype(float) \n",
    "    n = X.shape[0]\n",
    "    Y = np.array(y).reshape(n, 1)\n",
    "    Y = Y.astype(float) \n",
    "    \n",
    "    # Randomly initialising random weights \n",
    "    # weights = [L-1, L] where L-1 => no of neurons in prev layer, L => neurons in current neurons\n",
    "    weights = np.random.random((X.shape[1], 1))\n",
    "    weights = weights.reshape(3, 1)\n",
    "    \n",
    "    # Final arr to include all errors\n",
    "    loss_arr = []\n",
    "    \n",
    "    # Looping over through for N iterations\n",
    "    for i in range(iterations):\n",
    "        # Calcuating the predicted values of Y\n",
    "        z = np.dot(X, weights)\n",
    "        y_predicted = activation_func(z)\n",
    "        \n",
    "        # Calucating mean squared loss\n",
    "        loss_j = mse(y_predicted, Y)\n",
    "\n",
    "        # Delta rule implementation\n",
    "        weights = weights - alpha * np.dot(np.transpose(X), (sigmoid_derivative(y_predicted) * (y_predicted - Y))) \n",
    "       \n",
    "        # Append the loss error to the final array\n",
    "        loss_arr.append(loss_j) \n",
    "    return (weights, loss_arr)\n",
    "\n",
    "weights, loss_arr = perceptron_train(X_train, Y_train, 0.001, 10000)\n",
    "        "
   ]
  },
  {
   "cell_type": "code",
   "execution_count": 42,
   "metadata": {},
   "outputs": [
    {
     "data": {
      "text/plain": [
       "[<matplotlib.lines.Line2D at 0x7f9b3debdbd0>]"
      ]
     },
     "execution_count": 42,
     "metadata": {},
     "output_type": "execute_result"
    },
    {
     "data": {
      "image/png": "[encoded data removed]",
      "text/plain": [
       "<Figure size 432x288 with 1 Axes>"
      ]
     },
     "metadata": {
      "needs_background": "light"
     },
     "output_type": "display_data"
    }
   ],
   "source": [
    "# Plotting the graph for the loss J decreases over time\n",
    "x_arr = np.arange(0,10000,1)\n",
    "loss_arr = np.array(loss_arr)\n",
    "plt.plot(x_arr, loss_arr)"
   ]
  },
  {
   "cell_type": "code",
   "execution_count": 43,
   "metadata": {},
   "outputs": [
    {
     "name": "stdout",
     "output_type": "stream",
     "text": [
      "Training error:  13.052054076499504 %\n"
     ]
    }
   ],
   "source": [
    "# Training error \n",
    "print('Training error: ', loss_arr.mean() * 100, \"%\")"
   ]
  },
  {
   "cell_type": "code",
   "execution_count": 44,
   "metadata": {},
   "outputs": [
    {
     "name": "stdout",
     "output_type": "stream",
     "text": [
      "CORRECT 39\n",
      "Accuracy:  86.66666666666667\n",
      "Test Error:  11.335498865921947 %\n"
     ]
    }
   ],
   "source": [
    "# Calculating the accuracy, test error\n",
    "y_predicted, accuracy, test_error  = evaluate(weights, X_test, Y_test)\n",
    "print('Accuracy: ', accuracy)\n",
    "print('Test Error: ', test_error * 100, \"%\" )"
   ]
  },
  {
   "cell_type": "code",
   "execution_count": 45,
   "metadata": {},
   "outputs": [],
   "source": [
    "# Method to plot the decision boundary \n",
    "\n",
    "# Get the transpose of the weights\n",
    "weights = np.transpose(weights)\n",
    "\n",
    "# Update the X, Y values \n",
    "X = np.array(x)\n",
    "X = X.astype(float) \n",
    "n = X.shape[0]\n",
    "Y = np.array(y).reshape(n, 1)\n",
    "Y = Y.astype(float)     "
   ]
  },
  {
   "cell_type": "code",
   "execution_count": 46,
   "metadata": {},
   "outputs": [],
   "source": [
    "# Linear decision boundary in the input space\n",
    "a = np.linspace(np.amin(X[:, 1]), np.amax(X[:, 1]), num=200)\n",
    "b = np.array([])\n",
    "\n",
    "for i in range(a.shape[0]):\n",
    "    c = -(weights[0, 1] / weights[0, 2]) * a[i] - weights[0, 0] / weights[0, 2]\n",
    "    b = np.append(b, np.array([c]))"
   ]
  },
  {
   "cell_type": "code",
   "execution_count": 47,
   "metadata": {},
   "outputs": [
    {
     "data": {
      "image/png": "[encoded data removed]",
      "text/plain": [
       "<Figure size 432x288 with 2 Axes>"
      ]
     },
     "metadata": {
      "needs_background": "light"
     },
     "output_type": "display_data"
    }
   ],
   "source": [
    "# Plot the scatter points and decision boundary\n",
    "colors=['#1B9CFC', '#FC427B']\n",
    "plt.scatter(X[:, 1], X[:, 2], c=Y[:,0], cmap=matplotlib.colors.ListedColormap(colors))\n",
    "plt.plot(a, b, 'black')\n",
    "plt.grid(True)\n",
    "plt.colorbar()\n",
    "plt.show()"
   ]
  },
  {
   "cell_type": "code",
   "execution_count": null,
   "metadata": {},
   "outputs": [],
   "source": []
  }
 ],
 "metadata": {
  "kernelspec": {
   "display_name": "Python 3",
   "language": "python",
   "name": "python3"
  },
  "language_info": {
   "codemirror_mode": {
    "name": "ipython",
    "version": 3
   },
   "file_extension": ".py",
   "mimetype": "text/x-python",
   "name": "python",
   "nbconvert_exporter": "python",
   "pygments_lexer": "ipython3",
   "version": "3.7.6"
  }
 },
 "nbformat": 4,
 "nbformat_minor": 2
}
